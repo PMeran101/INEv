{
 "cells": [
  {
   "cell_type": "markdown",
   "metadata": {},
   "source": [
    "### Frage 1: Eval Plan Binary ist der \"INEv Graph\"?\n",
    "\n",
    "TODO: Einmal Eval Plan Binary aufmachen und gucken + zeigen\n"
   ]
  },
  {
   "cell_type": "code",
   "execution_count": null,
   "metadata": {},
   "outputs": [],
   "source": []
  },
  {
   "cell_type": "markdown",
   "metadata": {},
   "source": [
    "**Eventrate und Node-Berechnungen** \n",
    "\n",
    "So wie ich es sehe, ist die Eventrate der Nodes das ausschlaggebende für das Placement. Aber da nur meine Leaf-Nodes eine Eventrate haben, müsste ich die Events durch das ganze Netzwerk schicken (so wie ich das verstehe). Wäre es da vielleicht einfacher, den anderen Nodes die Summe der Eventrates ihrer Child-Nodes zu geben? Aber wie verhindere ich dann, dass alles in den Top-Nodes berechnet wird?\n",
    "\n",
    "TODO: Zeigen wie Projection + Placement nur die Eventrate genommen wird, welche Dateien und welche Zeilen."
   ]
  },
  {
   "cell_type": "markdown",
   "metadata": {},
   "source": [
    "Projektstruktur und Dateifunktionen\n",
    "Wenn ich es richtig kapiert habe, beschäftigen sich die meisten Dateien im Projekt mit der Netzwerk-Generierung, Projektionen, Abfragen, Selektivitäten usw. Ist das Placement von Operatoren nur in der computePlacementCost_aug.py implementiert?"
   ]
  },
  {
   "cell_type": "markdown",
   "metadata": {},
   "source": [
    "Einschränkung der Node-Projektionen\n",
    "Wenn ich einschränken will, welche Nodes Projektionen berechnen können, mache ich das in der computePlancosts_aug.py über die Variable MSPlacements in der Main-Methode, die dann in die EvalPlan Binary geschrieben wird? Stimmt das so?"
   ]
  },
  {
   "cell_type": "markdown",
   "metadata": {},
   "source": [
    "Bedeutung von 'etb'\n",
    "Wofür steht die Abkürzung 'etb'?"
   ]
  },
  {
   "cell_type": "markdown",
   "metadata": {},
   "source": [
    "Key Error bei Simulationen\n",
    "Hin und wieder kriege ich bei den Simulationen einen \"Key Error\". Das passiert selten, aber ich hab den Verdacht, dass es damit zu tun hat, dass die Binaries erstellt und genutzt werden, bevor sie komplett im Speicher verfügbar sind. Könnte das sein?\n",
    " "
   ]
  }
 ],
 "metadata": {
  "language_info": {
   "name": "python"
  }
 },
 "nbformat": 4,
 "nbformat_minor": 2
}
