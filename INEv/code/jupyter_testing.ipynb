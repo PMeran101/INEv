{
 "cells": [
  {
   "cell_type": "code",
   "execution_count": null,
   "metadata": {},
   "outputs": [],
   "source": [
    "\"Import Statements\"\n",
    "import Node\n",
    "import pickle\n",
    "from IPython.display import Image,display\n"
   ]
  },
  {
   "cell_type": "markdown",
   "metadata": {},
   "source": [
    "This Notebook will be used to Test all implementations of Changes made to INEv"
   ]
  },
  {
   "cell_type": "markdown",
   "metadata": {},
   "source": [
    "First Step will be to visualize my Network Structure made with the Changes,"
   ]
  },
  {
   "cell_type": "code",
   "execution_count": null,
   "metadata": {},
   "outputs": [],
   "source": [
    "with open('network', 'rb') as network:\n",
    "    nw = pickle.load(network)\n",
    "    nw[0].visualize_tree(nw[0])\n",
    "    display(Image(\"tree.png\"))"
   ]
  },
  {
   "cell_type": "code",
   "execution_count": null,
   "metadata": {},
   "outputs": [],
   "source": [
    "with open('centralLatency', 'rb') as centralLatency:\n",
    "    cl = pickle.load(centralLatency)\n",
    "    print(cl)"
   ]
  },
  {
   "cell_type": "code",
   "execution_count": null,
   "metadata": {},
   "outputs": [],
   "source": [
    "with open('criticalMSTypes', 'rb') as criticalMSTypes:\n",
    "    cmt = pickle.load(criticalMSTypes)\n",
    "    print(cmt)"
   ]
  },
  {
   "cell_type": "code",
   "execution_count": null,
   "metadata": {},
   "outputs": [],
   "source": [
    "with open('curcombi', 'rb') as curcombi:\n",
    "    cc = pickle.load(curcombi)\n",
    "    print(cc)"
   ]
  },
  {
   "cell_type": "code",
   "execution_count": null,
   "metadata": {},
   "outputs": [],
   "source": [
    "with open('current_wl', 'rb') as current_wl:\n",
    "    cwl = pickle.load(current_wl)\n",
    "    print(cwl)\n",
    "    for i in cwl:\n",
    "\n",
    "        print(i)"
   ]
  },
  {
   "cell_type": "code",
   "execution_count": 1,
   "metadata": {},
   "outputs": [
    {
     "name": "stdout",
     "output_type": "stream",
     "text": [
      "[<EvaluationPlan.EvaluationPlan object at 0x7ff990e875e0>, 5154345, {<tree.SEQ object at 0x7ff990eb43a0>: ['H', 12], <tree.SEQ object at 0x7ff9779b2850>: ['O', 15], <tree.SEQ object at 0x7ff9779b9670>: ['J', 13]}]\n",
      "<EvaluationPlan(projections=[<EvaluationPlan.Projection object at 0x7ff990eb4340>, <EvaluationPlan.Projection object at 0x7ff977999d30>, <EvaluationPlan.Projection object at 0x7ff9779a3f70>, <EvaluationPlan.Projection object at 0x7ff9779b27f0>, <EvaluationPlan.Projection object at 0x7ff9779b2bb0>, <EvaluationPlan.Projection object at 0x7ff9779b9610>, <EvaluationPlan.Projection object at 0x7ff9779b9d00>], instances=[<EvaluationPlan.Instance object at 0x7ff9759c1700>, <EvaluationPlan.Instance object at 0x7ff9759c1760>, <EvaluationPlan.Instance object at 0x7ff9759c17c0>, <EvaluationPlan.Instance object at 0x7ff9759c1820>, <EvaluationPlan.Instance object at 0x7ff9759c1880>, <EvaluationPlan.Instance object at 0x7ff9759c18e0>, <EvaluationPlan.Instance object at 0x7ff9759c1970>, <EvaluationPlan.Instance object at 0x7ff9759c1a00>, <EvaluationPlan.Instance object at 0x7ff9759c1a90>, <EvaluationPlan.Instance object at 0x7ff9759c1b20>, <EvaluationPlan.Instance object at 0x7ff9759c1bb0>, <EvaluationPlan.Instance object at 0x7ff9759c1c40>, <EvaluationPlan.Instance object at 0x7ff9759c1cd0>, <EvaluationPlan.Instance object at 0x7ff9759c1d30>, <EvaluationPlan.Instance object at 0x7ff9759c1d90>, <EvaluationPlan.Instance object at 0x7ff9759c1df0>, <EvaluationPlan.Instance object at 0x7ff9759c1e50>, <EvaluationPlan.Instance object at 0x7ff9759c1eb0>, <EvaluationPlan.Instance object at 0x7ff9759c1f10>, <EvaluationPlan.Instance object at 0x7ff9759c1f70>, <EvaluationPlan.Instance object at 0x7ff9759c1fd0>, <EvaluationPlan.Instance object at 0x7ff9759c80a0>, <EvaluationPlan.Instance object at 0x7ff9759c8130>, <EvaluationPlan.Instance object at 0x7ff9759c81c0>, <EvaluationPlan.Instance object at 0x7ff9759c8250>, <EvaluationPlan.Instance object at 0x7ff9759c82e0>, <EvaluationPlan.Instance object at 0x7ff9759c8370>, <EvaluationPlan.Instance object at 0x7ff9759c8400>, <EvaluationPlan.Instance object at 0x7ff9759c8460>, <EvaluationPlan.Instance object at 0x7ff9759c84c0>, <EvaluationPlan.Instance object at 0x7ff9759c8520>, <EvaluationPlan.Instance object at 0x7ff9759c8580>, <EvaluationPlan.Instance object at 0x7ff9759c85e0>, <EvaluationPlan.Instance object at 0x7ff9759c8640>, <EvaluationPlan.Instance object at 0x7ff9759c86a0>, <EvaluationPlan.Instance object at 0x7ff9759c8700>, <EvaluationPlan.Instance object at 0x7ff9759c8760>, <EvaluationPlan.Instance object at 0x7ff9759c87c0>, <EvaluationPlan.Instance object at 0x7ff9759c8820>, <EvaluationPlan.Instance object at 0x7ff9759c8880>, <EvaluationPlan.Instance object at 0x7ff9759c8910>, <EvaluationPlan.Instance object at 0x7ff9759c89a0>, <EvaluationPlan.Instance object at 0x7ff9759c8a30>, <EvaluationPlan.Instance object at 0x7ff9759c8ac0>, <EvaluationPlan.Instance object at 0x7ff9759c8b50>, <EvaluationPlan.Instance object at 0x7ff9759c8be0>, <EvaluationPlan.Instance object at 0x7ff9759c8c70>, <EvaluationPlan.Instance object at 0x7ff9759c8d00>, <EvaluationPlan.Instance object at 0x7ff9759c8d90>, <EvaluationPlan.Instance object at 0x7ff9759c8e20>, <EvaluationPlan.Instance object at 0x7ff9759c8eb0>, <EvaluationPlan.Instance object at 0x7ff9759c8f40>, <EvaluationPlan.Instance object at 0x7ff9759c8fd0>, <EvaluationPlan.Instance object at 0x7ff9759ce0a0>, <EvaluationPlan.Instance object at 0x7ff9759ce130>, <EvaluationPlan.Instance object at 0x7ff9759ce1c0>, <EvaluationPlan.Instance object at 0x7ff9759ce250>, <EvaluationPlan.Instance object at 0x7ff9759ce2e0>, <EvaluationPlan.Instance object at 0x7ff9759ce370>, <EvaluationPlan.Instance object at 0x7ff9759ce3d0>, <EvaluationPlan.Instance object at 0x7ff9759ce430>, <EvaluationPlan.Instance object at 0x7ff9759ce490>, <EvaluationPlan.Instance object at 0x7ff9759ce4f0>, <EvaluationPlan.Instance object at 0x7ff9759ce550>, <EvaluationPlan.Instance object at 0x7ff9759ce5b0>, <EvaluationPlan.Instance object at 0x7ff9759ce610>, <EvaluationPlan.Instance object at 0x7ff9759ce670>, <EvaluationPlan.Instance object at 0x7ff9759ce6d0>, <EvaluationPlan.Instance object at 0x7ff9759ce730>, <EvaluationPlan.Instance object at 0x7ff9759ce790>, <EvaluationPlan.Instance object at 0x7ff9759ce7f0>, <EvaluationPlan.Instance object at 0x7ff9759ce850>, <EvaluationPlan.Instance object at 0x7ff9759ce8b0>, <EvaluationPlan.Instance object at 0x7ff9759ce910>, <EvaluationPlan.Instance object at 0x7ff9759ce970>, <EvaluationPlan.Instance object at 0x7ff9759cea00>, <EvaluationPlan.Instance object at 0x7ff9759cea90>, <EvaluationPlan.Instance object at 0x7ff9759ceb20>, <EvaluationPlan.Instance object at 0x7ff9759cebb0>, <EvaluationPlan.Instance object at 0x7ff9759cec40>, <EvaluationPlan.Instance object at 0x7ff9759ceca0>, <EvaluationPlan.Instance object at 0x7ff9759ced00>, <EvaluationPlan.Instance object at 0x7ff9759ced60>, <EvaluationPlan.Instance object at 0x7ff9759cedc0>, <EvaluationPlan.Instance object at 0x7ff9759cee20>, <EvaluationPlan.Instance object at 0x7ff9759cee80>, <EvaluationPlan.Instance object at 0x7ff9759ceee0>, <EvaluationPlan.Instance object at 0x7ff9759cef70>, <EvaluationPlan.Instance object at 0x7ff9759d4040>, <EvaluationPlan.Instance object at 0x7ff9759d40d0>, <EvaluationPlan.Instance object at 0x7ff9759d4160>, <EvaluationPlan.Instance object at 0x7ff9759d41f0>, <EvaluationPlan.Instance object at 0x7ff9759d4280>, <EvaluationPlan.Instance object at 0x7ff9759d42e0>, <EvaluationPlan.Instance object at 0x7ff9759d4340>, <EvaluationPlan.Instance object at 0x7ff9759d43a0>, <EvaluationPlan.Instance object at 0x7ff9759d4400>, <EvaluationPlan.Instance object at 0x7ff9759d4460>, <EvaluationPlan.Instance object at 0x7ff9759d44c0>, <EvaluationPlan.Instance object at 0x7ff9759d4520>, <EvaluationPlan.Instance object at 0x7ff9759d4580>, <EvaluationPlan.Instance object at 0x7ff9759d45e0>, <EvaluationPlan.Instance object at 0x7ff9759d4640>, <EvaluationPlan.Instance object at 0x7ff9759d46d0>, <EvaluationPlan.Instance object at 0x7ff9759d4760>, <EvaluationPlan.Instance object at 0x7ff9759d47f0>, <EvaluationPlan.Instance object at 0x7ff9759d4880>, <EvaluationPlan.Instance object at 0x7ff9759d48e0>, <EvaluationPlan.Instance object at 0x7ff9759d4940>, <EvaluationPlan.Instance object at 0x7ff9759d49a0>, <EvaluationPlan.Instance object at 0x7ff9759d4a00>, <EvaluationPlan.Instance object at 0x7ff9759d4a60>, <EvaluationPlan.Instance object at 0x7ff9759d4ac0>, <EvaluationPlan.Instance object at 0x7ff9759d4b20>, <EvaluationPlan.Instance object at 0x7ff9759d4b80>, <EvaluationPlan.Instance object at 0x7ff9759d4be0>, <EvaluationPlan.Instance object at 0x7ff9759d4c40>, <EvaluationPlan.Instance object at 0x7ff9759d4ca0>, <EvaluationPlan.Instance object at 0x7ff9759d4d00>, <EvaluationPlan.Instance object at 0x7ff9759d4d60>, <EvaluationPlan.Instance object at 0x7ff9759d4dc0>, <EvaluationPlan.Instance object at 0x7ff9759d4e20>, <EvaluationPlan.Instance object at 0x7ff9759d4e80>, <EvaluationPlan.Instance object at 0x7ff9759d4ee0>, <EvaluationPlan.Instance object at 0x7ff9759d4f40>, <EvaluationPlan.Instance object at 0x7ff9759d4fa0>, <EvaluationPlan.Instance object at 0x7ff9759da040>, <EvaluationPlan.Instance object at 0x7ff9759da0a0>, <EvaluationPlan.Instance object at 0x7ff9759da100>, <EvaluationPlan.Instance object at 0x7ff9759da160>, <EvaluationPlan.Instance object at 0x7ff9759da1c0>, <EvaluationPlan.Instance object at 0x7ff9759da220>, <EvaluationPlan.Instance object at 0x7ff9759da280>, <EvaluationPlan.Instance object at 0x7ff9759da2e0>, <EvaluationPlan.Instance object at 0x7ff9759da340>, <EvaluationPlan.Instance object at 0x7ff9759da3a0>, <EvaluationPlan.Instance object at 0x7ff9759da400>, <EvaluationPlan.Instance object at 0x7ff9759da460>, <EvaluationPlan.Instance object at 0x7ff9759da4c0>, <EvaluationPlan.Instance object at 0x7ff9759da520>, <EvaluationPlan.Instance object at 0x7ff9759da580>])>\n",
      "5154345\n",
      "{<tree.SEQ object at 0x7ff990eb43a0>: ['H', 12], <tree.SEQ object at 0x7ff9779b2850>: ['O', 15], <tree.SEQ object at 0x7ff9779b9670>: ['J', 13]}\n"
     ]
    }
   ],
   "source": [
    "import pickle\n",
    "with open('EvaluationPlan', 'rb') as EvalPlan:\n",
    "    ep = pickle.load(EvalPlan)\n",
    "    # print(ep)\n",
    "    \n",
    "    for i in ep:\n",
    "        print(str(i))"
   ]
  },
  {
   "cell_type": "code",
   "execution_count": null,
   "metadata": {},
   "outputs": [],
   "source": [
    "with open('filterDict', 'rb') as filterDict:\n",
    "    fd = pickle.load(filterDict)\n",
    "    print(fd)"
   ]
  },
  {
   "cell_type": "code",
   "execution_count": null,
   "metadata": {},
   "outputs": [],
   "source": [
    "with open('original_network','rb') as original_network:\n",
    "    on = pickle.load(original_network)\n",
    "    print(on)\n",
    "    print(len(on))"
   ]
  },
  {
   "cell_type": "code",
   "execution_count": null,
   "metadata": {},
   "outputs": [],
   "source": [
    "with open('original_wl', 'rb') as original_wl:\n",
    "    owl = pickle.load(original_wl)\n",
    "    print(owl)\n",
    "    \n",
    "    for i in owl:\n",
    "        print(i)"
   ]
  },
  {
   "cell_type": "code",
   "execution_count": null,
   "metadata": {},
   "outputs": [],
   "source": [
    "with open('partialInev', 'rb') as partialInev:\n",
    "    pi = pickle.load(partialInev)\n",
    "    print(pi)"
   ]
  },
  {
   "cell_type": "code",
   "execution_count": null,
   "metadata": {},
   "outputs": [],
   "source": [
    "with open('PrimitiveEvents','rb') as PrimitiveEvents:\n",
    "    pe = pickle.load(PrimitiveEvents)\n",
    "    print(pe)"
   ]
  },
  {
   "cell_type": "code",
   "execution_count": null,
   "metadata": {},
   "outputs": [],
   "source": [
    "with open('processingLatency', 'rb') as processingLatency:\n",
    "    pl = pickle.load(processingLatency)\n",
    "    print(pl)"
   ]
  },
  {
   "cell_type": "code",
   "execution_count": null,
   "metadata": {},
   "outputs": [],
   "source": [
    "with open('projdict', 'rb') as projdict:\n",
    "    pd = pickle.load(projdict)\n",
    "    print(pd)\n",
    "    \n",
    "    for i in pd:\n",
    "        print(f'{i} : {pd[i]}')"
   ]
  },
  {
   "cell_type": "code",
   "execution_count": null,
   "metadata": {},
   "outputs": [],
   "source": [
    "with open('projrates', 'rb') as projrates:\n",
    "    pr = pickle.load(projrates)\n",
    "    print(pr)\n",
    "    for i in pr:\n",
    "        print(f'{i} : {pr[i]}')   "
   ]
  },
  {
   "cell_type": "code",
   "execution_count": null,
   "metadata": {},
   "outputs": [],
   "source": [
    "with open('rates','rb') as rates:\n",
    "    r = pickle.load(rates)\n",
    "    print(r)"
   ]
  },
  {
   "cell_type": "code",
   "execution_count": null,
   "metadata": {},
   "outputs": [],
   "source": [
    "with open('selectivities','rb') as selectivities:\n",
    "    s = pickle.load(selectivities)\n",
    "    print(s)\n",
    "print(s['PI'])"
   ]
  },
  {
   "cell_type": "code",
   "execution_count": null,
   "metadata": {},
   "outputs": [],
   "source": [
    "with open('selectivitiesExperimentData','rb') as selectivitiesExperimentData:\n",
    "    sed = pickle.load(selectivitiesExperimentData)\n",
    "    print(sed)"
   ]
  },
  {
   "cell_type": "code",
   "execution_count": null,
   "metadata": {},
   "outputs": [],
   "source": [
    "with open('singleSelectivities','rb') as singleSelectivities:\n",
    "    ss = pickle.load(singleSelectivities)\n",
    "    print(ss)"
   ]
  },
  {
   "cell_type": "code",
   "execution_count": null,
   "metadata": {},
   "outputs": [],
   "source": [
    "with open('wl_windows','rb') as wl_window:\n",
    "    w = pickle.load(wl_window)\n",
    "    print(w)\n",
    "    \n",
    "    for i in w:\n",
    "        for j in i:\n",
    "            print(j)\n",
    "        print('--')"
   ]
  },
  {
   "cell_type": "code",
   "execution_count": null,
   "metadata": {},
   "outputs": [],
   "source": [
    "with open('CentralEvaluationPlan', 'rb')  as central_evaluation_plan:\n",
    "    cep = pickle.load(central_evaluation_plan)\n",
    "    print(cep)"
   ]
  },
  {
   "cell_type": "code",
   "execution_count": null,
   "metadata": {},
   "outputs": [],
   "source": [
    "with open('allPairs', 'rb') as ap:\n",
    "    allPairs = pickle.load(ap)\n",
    "    print(allPairs)"
   ]
  }
 ],
 "metadata": {
  "kernelspec": {
   "display_name": "Python 3",
   "language": "python",
   "name": "python3"
  },
  "language_info": {
   "codemirror_mode": {
    "name": "ipython",
    "version": 3
   },
   "file_extension": ".py",
   "mimetype": "text/x-python",
   "name": "python",
   "nbconvert_exporter": "python",
   "pygments_lexer": "ipython3",
   "version": "3.8.19"
  }
 },
 "nbformat": 4,
 "nbformat_minor": 2
}
